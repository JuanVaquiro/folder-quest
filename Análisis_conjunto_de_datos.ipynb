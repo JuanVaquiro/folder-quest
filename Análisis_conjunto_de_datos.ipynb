{
 "cells": [
  {
   "cell_type": "markdown",
   "metadata": {},
   "source": [
    "# Sección 1: Análisis de Datos\n"
   ]
  },
  {
   "cell_type": "markdown",
   "metadata": {},
   "source": [
    "#### Import library"
   ]
  },
  {
   "cell_type": "code",
   "execution_count": 132,
   "metadata": {},
   "outputs": [],
   "source": [
    "import numpy as np\n",
    "import pandas as pd\n",
    "import matplotlib.pyplot as plt\n",
    "%matplotlib inline"
   ]
  },
  {
   "cell_type": "markdown",
   "metadata": {},
   "source": [
    "## Parte A: Análisis de un conjunto de datos"
   ]
  },
  {
   "cell_type": "markdown",
   "metadata": {},
   "source": [
    "### DATA LOADING"
   ]
  },
  {
   "cell_type": "code",
   "execution_count": 133,
   "metadata": {},
   "outputs": [],
   "source": [
    "df = pd.read_csv('customer_data.csv', sep = ',', na_values='#N/D')"
   ]
  },
  {
   "cell_type": "code",
   "execution_count": 134,
   "metadata": {},
   "outputs": [
    {
     "data": {
      "text/html": [
       "<div>\n",
       "<style scoped>\n",
       "    .dataframe tbody tr th:only-of-type {\n",
       "        vertical-align: middle;\n",
       "    }\n",
       "\n",
       "    .dataframe tbody tr th {\n",
       "        vertical-align: top;\n",
       "    }\n",
       "\n",
       "    .dataframe thead th {\n",
       "        text-align: right;\n",
       "    }\n",
       "</style>\n",
       "<table border=\"1\" class=\"dataframe\">\n",
       "  <thead>\n",
       "    <tr style=\"text-align: right;\">\n",
       "      <th></th>\n",
       "      <th>CustomerID</th>\n",
       "      <th>Age</th>\n",
       "      <th>Location</th>\n",
       "      <th>TotalPurchases</th>\n",
       "      <th>LastPurchaseDate</th>\n",
       "      <th>LifetimeValue</th>\n",
       "      <th>Contacted</th>\n",
       "      <th>PurchaseProbability</th>\n",
       "    </tr>\n",
       "  </thead>\n",
       "  <tbody>\n",
       "    <tr>\n",
       "      <th>0</th>\n",
       "      <td>1</td>\n",
       "      <td>62</td>\n",
       "      <td>West</td>\n",
       "      <td>1</td>\n",
       "      <td>4/3/2024 20:45</td>\n",
       "      <td>1898.15</td>\n",
       "      <td>Yes</td>\n",
       "      <td>0.49</td>\n",
       "    </tr>\n",
       "    <tr>\n",
       "      <th>1</th>\n",
       "      <td>2</td>\n",
       "      <td>65</td>\n",
       "      <td>South</td>\n",
       "      <td>5</td>\n",
       "      <td>45:50.9</td>\n",
       "      <td>5172.70</td>\n",
       "      <td>Yes</td>\n",
       "      <td>0.98</td>\n",
       "    </tr>\n",
       "    <tr>\n",
       "      <th>2</th>\n",
       "      <td>3</td>\n",
       "      <td>18</td>\n",
       "      <td>South</td>\n",
       "      <td>4</td>\n",
       "      <td>5/25/2024 20:45</td>\n",
       "      <td>5846.43</td>\n",
       "      <td>Yes</td>\n",
       "      <td>0.24</td>\n",
       "    </tr>\n",
       "    <tr>\n",
       "      <th>3</th>\n",
       "      <td>4</td>\n",
       "      <td>21</td>\n",
       "      <td>South</td>\n",
       "      <td>14</td>\n",
       "      <td>45:50.9</td>\n",
       "      <td>7896.67</td>\n",
       "      <td>No</td>\n",
       "      <td>0.37</td>\n",
       "    </tr>\n",
       "    <tr>\n",
       "      <th>4</th>\n",
       "      <td>5</td>\n",
       "      <td>21</td>\n",
       "      <td>North</td>\n",
       "      <td>12</td>\n",
       "      <td>45:50.9</td>\n",
       "      <td>6104.11</td>\n",
       "      <td>Yes</td>\n",
       "      <td>0.05</td>\n",
       "    </tr>\n",
       "  </tbody>\n",
       "</table>\n",
       "</div>"
      ],
      "text/plain": [
       "   CustomerID  Age Location  TotalPurchases LastPurchaseDate  LifetimeValue  \\\n",
       "0           1   62     West               1   4/3/2024 20:45        1898.15   \n",
       "1           2   65    South               5          45:50.9        5172.70   \n",
       "2           3   18    South               4  5/25/2024 20:45        5846.43   \n",
       "3           4   21    South              14          45:50.9        7896.67   \n",
       "4           5   21    North              12          45:50.9        6104.11   \n",
       "\n",
       "  Contacted  PurchaseProbability  \n",
       "0       Yes                 0.49  \n",
       "1       Yes                 0.98  \n",
       "2       Yes                 0.24  \n",
       "3        No                 0.37  \n",
       "4       Yes                 0.05  "
      ]
     },
     "execution_count": 134,
     "metadata": {},
     "output_type": "execute_result"
    }
   ],
   "source": [
    "df.head()"
   ]
  },
  {
   "cell_type": "markdown",
   "metadata": {},
   "source": [
    "### BUSINESS ANALYTICS"
   ]
  },
  {
   "cell_type": "code",
   "execution_count": 135,
   "metadata": {},
   "outputs": [
    {
     "name": "stdout",
     "output_type": "stream",
     "text": [
      "<class 'pandas.core.frame.DataFrame'>\n",
      "RangeIndex: 100 entries, 0 to 99\n",
      "Data columns (total 8 columns):\n",
      " #   Column               Non-Null Count  Dtype  \n",
      "---  ------               --------------  -----  \n",
      " 0   CustomerID           100 non-null    int64  \n",
      " 1   Age                  100 non-null    int64  \n",
      " 2   Location             100 non-null    object \n",
      " 3   TotalPurchases       100 non-null    int64  \n",
      " 4   LastPurchaseDate     100 non-null    object \n",
      " 5   LifetimeValue        100 non-null    float64\n",
      " 6   Contacted            100 non-null    object \n",
      " 7   PurchaseProbability  100 non-null    float64\n",
      "dtypes: float64(2), int64(3), object(3)\n",
      "memory usage: 6.4+ KB\n"
     ]
    }
   ],
   "source": [
    "df.info()"
   ]
  },
  {
   "cell_type": "code",
   "execution_count": 136,
   "metadata": {},
   "outputs": [
    {
     "data": {
      "text/plain": [
       "{'Edad Promedio': 41.57,\n",
       " 'Ubicación Más Frecuente': 'East',\n",
       " 'Frecuencia de Compra Promedio': 9.48}"
      ]
     },
     "execution_count": 136,
     "metadata": {},
     "output_type": "execute_result"
    }
   ],
   "source": [
    "age_average = df['Age'].mean() \n",
    "location_frequent = df['Location'].mode()[0]\n",
    "frequency_average_purchase = df['TotalPurchases'].mean()\n",
    "\n",
    "average_profile = {\n",
    "    'Edad Promedio': age_average,\n",
    "    'Ubicación Más Frecuente': location_frequent,\n",
    "    'Frecuencia de Compra Promedio': frequency_average_purchase\n",
    "}\n",
    "\n",
    "average_profile\n"
   ]
  },
  {
   "cell_type": "markdown",
   "metadata": {},
   "source": [
    "Conclusiones: \n",
    "\n",
    "- `Edad Promedio: 42%,`\n",
    "- `Ubicación Más Frecuente: 'East',`\n",
    "- `Frecuencia de Compra Promedio: 9%`"
   ]
  },
  {
   "cell_type": "markdown",
   "metadata": {},
   "source": [
    "### Identificar los 10 clientes con el mayor valor de vida (Lifetime Value)"
   ]
  },
  {
   "cell_type": "code",
   "execution_count": 148,
   "metadata": {},
   "outputs": [
    {
     "data": {
      "text/html": [
       "<div>\n",
       "<style scoped>\n",
       "    .dataframe tbody tr th:only-of-type {\n",
       "        vertical-align: middle;\n",
       "    }\n",
       "\n",
       "    .dataframe tbody tr th {\n",
       "        vertical-align: top;\n",
       "    }\n",
       "\n",
       "    .dataframe thead th {\n",
       "        text-align: right;\n",
       "    }\n",
       "</style>\n",
       "<table border=\"1\" class=\"dataframe\">\n",
       "  <thead>\n",
       "    <tr style=\"text-align: right;\">\n",
       "      <th></th>\n",
       "      <th>CustomerID</th>\n",
       "      <th>LifetimeValue</th>\n",
       "    </tr>\n",
       "  </thead>\n",
       "  <tbody>\n",
       "    <tr>\n",
       "      <th>19</th>\n",
       "      <td>20</td>\n",
       "      <td>9851.82</td>\n",
       "    </tr>\n",
       "    <tr>\n",
       "      <th>28</th>\n",
       "      <td>29</td>\n",
       "      <td>9808.93</td>\n",
       "    </tr>\n",
       "    <tr>\n",
       "      <th>16</th>\n",
       "      <td>17</td>\n",
       "      <td>9745.16</td>\n",
       "    </tr>\n",
       "    <tr>\n",
       "      <th>40</th>\n",
       "      <td>41</td>\n",
       "      <td>9533.42</td>\n",
       "    </tr>\n",
       "    <tr>\n",
       "      <th>38</th>\n",
       "      <td>39</td>\n",
       "      <td>9269.51</td>\n",
       "    </tr>\n",
       "    <tr>\n",
       "      <th>75</th>\n",
       "      <td>76</td>\n",
       "      <td>9259.12</td>\n",
       "    </tr>\n",
       "    <tr>\n",
       "      <th>96</th>\n",
       "      <td>97</td>\n",
       "      <td>9114.39</td>\n",
       "    </tr>\n",
       "    <tr>\n",
       "      <th>72</th>\n",
       "      <td>73</td>\n",
       "      <td>8931.29</td>\n",
       "    </tr>\n",
       "    <tr>\n",
       "      <th>44</th>\n",
       "      <td>45</td>\n",
       "      <td>8840.31</td>\n",
       "    </tr>\n",
       "    <tr>\n",
       "      <th>79</th>\n",
       "      <td>80</td>\n",
       "      <td>8838.82</td>\n",
       "    </tr>\n",
       "  </tbody>\n",
       "</table>\n",
       "</div>"
      ],
      "text/plain": [
       "    CustomerID  LifetimeValue\n",
       "19          20        9851.82\n",
       "28          29        9808.93\n",
       "16          17        9745.16\n",
       "40          41        9533.42\n",
       "38          39        9269.51\n",
       "75          76        9259.12\n",
       "96          97        9114.39\n",
       "72          73        8931.29\n",
       "44          45        8840.31\n",
       "79          80        8838.82"
      ]
     },
     "execution_count": 148,
     "metadata": {},
     "output_type": "execute_result"
    }
   ],
   "source": [
    "top_10_lifetime_value = df.nlargest(10, 'LifetimeValue')[['CustomerID', 'LifetimeValue']]\n",
    "\n",
    "top_10_lifetime_value\n",
    "\n",
    "# Los siguientes CustomerID conrrespoenden a los 10 clientes con el mayor valor de vida "
   ]
  },
  {
   "cell_type": "markdown",
   "metadata": {},
   "source": [
    "### Encuentra las tres variables que más influyen en la probabilidad de que un cliente haga una compra."
   ]
  },
  {
   "cell_type": "markdown",
   "metadata": {},
   "source": [
    " Cuantificar los valores de `location` para analizar si se encuentra dentro las tres varialbes que influyan en la probabilidad de compra"
   ]
  },
  {
   "cell_type": "code",
   "execution_count": 138,
   "metadata": {},
   "outputs": [
    {
     "data": {
      "text/html": [
       "<div>\n",
       "<style scoped>\n",
       "    .dataframe tbody tr th:only-of-type {\n",
       "        vertical-align: middle;\n",
       "    }\n",
       "\n",
       "    .dataframe tbody tr th {\n",
       "        vertical-align: top;\n",
       "    }\n",
       "\n",
       "    .dataframe thead th {\n",
       "        text-align: right;\n",
       "    }\n",
       "</style>\n",
       "<table border=\"1\" class=\"dataframe\">\n",
       "  <thead>\n",
       "    <tr style=\"text-align: right;\">\n",
       "      <th></th>\n",
       "      <th>CustomerID</th>\n",
       "      <th>Age</th>\n",
       "      <th>Location</th>\n",
       "      <th>TotalPurchases</th>\n",
       "      <th>LastPurchaseDate</th>\n",
       "      <th>LifetimeValue</th>\n",
       "      <th>Contacted</th>\n",
       "      <th>PurchaseProbability</th>\n",
       "      <th>Location_Quantified</th>\n",
       "    </tr>\n",
       "  </thead>\n",
       "  <tbody>\n",
       "    <tr>\n",
       "      <th>0</th>\n",
       "      <td>1</td>\n",
       "      <td>62</td>\n",
       "      <td>West</td>\n",
       "      <td>1</td>\n",
       "      <td>4/3/2024 20:45</td>\n",
       "      <td>1898.15</td>\n",
       "      <td>Yes</td>\n",
       "      <td>0.49</td>\n",
       "      <td>1</td>\n",
       "    </tr>\n",
       "    <tr>\n",
       "      <th>1</th>\n",
       "      <td>2</td>\n",
       "      <td>65</td>\n",
       "      <td>South</td>\n",
       "      <td>5</td>\n",
       "      <td>45:50.9</td>\n",
       "      <td>5172.70</td>\n",
       "      <td>Yes</td>\n",
       "      <td>0.98</td>\n",
       "      <td>2</td>\n",
       "    </tr>\n",
       "    <tr>\n",
       "      <th>2</th>\n",
       "      <td>3</td>\n",
       "      <td>18</td>\n",
       "      <td>South</td>\n",
       "      <td>4</td>\n",
       "      <td>5/25/2024 20:45</td>\n",
       "      <td>5846.43</td>\n",
       "      <td>Yes</td>\n",
       "      <td>0.24</td>\n",
       "      <td>2</td>\n",
       "    </tr>\n",
       "    <tr>\n",
       "      <th>3</th>\n",
       "      <td>4</td>\n",
       "      <td>21</td>\n",
       "      <td>South</td>\n",
       "      <td>14</td>\n",
       "      <td>45:50.9</td>\n",
       "      <td>7896.67</td>\n",
       "      <td>No</td>\n",
       "      <td>0.37</td>\n",
       "      <td>2</td>\n",
       "    </tr>\n",
       "    <tr>\n",
       "      <th>4</th>\n",
       "      <td>5</td>\n",
       "      <td>21</td>\n",
       "      <td>North</td>\n",
       "      <td>12</td>\n",
       "      <td>45:50.9</td>\n",
       "      <td>6104.11</td>\n",
       "      <td>Yes</td>\n",
       "      <td>0.05</td>\n",
       "      <td>3</td>\n",
       "    </tr>\n",
       "    <tr>\n",
       "      <th>...</th>\n",
       "      <td>...</td>\n",
       "      <td>...</td>\n",
       "      <td>...</td>\n",
       "      <td>...</td>\n",
       "      <td>...</td>\n",
       "      <td>...</td>\n",
       "      <td>...</td>\n",
       "      <td>...</td>\n",
       "      <td>...</td>\n",
       "    </tr>\n",
       "    <tr>\n",
       "      <th>95</th>\n",
       "      <td>96</td>\n",
       "      <td>32</td>\n",
       "      <td>North</td>\n",
       "      <td>6</td>\n",
       "      <td>45:50.9</td>\n",
       "      <td>1013.38</td>\n",
       "      <td>No</td>\n",
       "      <td>0.39</td>\n",
       "      <td>3</td>\n",
       "    </tr>\n",
       "    <tr>\n",
       "      <th>96</th>\n",
       "      <td>97</td>\n",
       "      <td>33</td>\n",
       "      <td>West</td>\n",
       "      <td>13</td>\n",
       "      <td>45:50.9</td>\n",
       "      <td>9114.39</td>\n",
       "      <td>No</td>\n",
       "      <td>0.53</td>\n",
       "      <td>1</td>\n",
       "    </tr>\n",
       "    <tr>\n",
       "      <th>97</th>\n",
       "      <td>98</td>\n",
       "      <td>38</td>\n",
       "      <td>North</td>\n",
       "      <td>13</td>\n",
       "      <td>45:50.9</td>\n",
       "      <td>921.42</td>\n",
       "      <td>No</td>\n",
       "      <td>0.94</td>\n",
       "      <td>3</td>\n",
       "    </tr>\n",
       "    <tr>\n",
       "      <th>98</th>\n",
       "      <td>99</td>\n",
       "      <td>53</td>\n",
       "      <td>South</td>\n",
       "      <td>3</td>\n",
       "      <td>45:50.9</td>\n",
       "      <td>8023.75</td>\n",
       "      <td>No</td>\n",
       "      <td>0.89</td>\n",
       "      <td>2</td>\n",
       "    </tr>\n",
       "    <tr>\n",
       "      <th>99</th>\n",
       "      <td>100</td>\n",
       "      <td>41</td>\n",
       "      <td>East</td>\n",
       "      <td>16</td>\n",
       "      <td>45:50.9</td>\n",
       "      <td>8783.60</td>\n",
       "      <td>No</td>\n",
       "      <td>0.68</td>\n",
       "      <td>4</td>\n",
       "    </tr>\n",
       "  </tbody>\n",
       "</table>\n",
       "<p>100 rows × 9 columns</p>\n",
       "</div>"
      ],
      "text/plain": [
       "    CustomerID  Age Location  TotalPurchases LastPurchaseDate  LifetimeValue  \\\n",
       "0            1   62     West               1   4/3/2024 20:45        1898.15   \n",
       "1            2   65    South               5          45:50.9        5172.70   \n",
       "2            3   18    South               4  5/25/2024 20:45        5846.43   \n",
       "3            4   21    South              14          45:50.9        7896.67   \n",
       "4            5   21    North              12          45:50.9        6104.11   \n",
       "..         ...  ...      ...             ...              ...            ...   \n",
       "95          96   32    North               6          45:50.9        1013.38   \n",
       "96          97   33     West              13          45:50.9        9114.39   \n",
       "97          98   38    North              13          45:50.9         921.42   \n",
       "98          99   53    South               3          45:50.9        8023.75   \n",
       "99         100   41     East              16          45:50.9        8783.60   \n",
       "\n",
       "   Contacted  PurchaseProbability  Location_Quantified  \n",
       "0        Yes                 0.49                    1  \n",
       "1        Yes                 0.98                    2  \n",
       "2        Yes                 0.24                    2  \n",
       "3         No                 0.37                    2  \n",
       "4        Yes                 0.05                    3  \n",
       "..       ...                  ...                  ...  \n",
       "95        No                 0.39                    3  \n",
       "96        No                 0.53                    1  \n",
       "97        No                 0.94                    3  \n",
       "98        No                 0.89                    2  \n",
       "99        No                 0.68                    4  \n",
       "\n",
       "[100 rows x 9 columns]"
      ]
     },
     "execution_count": 138,
     "metadata": {},
     "output_type": "execute_result"
    }
   ],
   "source": [
    "location_mapping = {'West': 1, 'South': 2, 'North': 3, 'East': 4}\n",
    "df['Location_Quantified'] = df['Location'].map(location_mapping)\n",
    "\n",
    "df"
   ]
  },
  {
   "cell_type": "code",
   "execution_count": 139,
   "metadata": {},
   "outputs": [],
   "source": [
    "# Seleccionar solo las columnas numericas\n",
    "df_numerical = df.select_dtypes(include=['number'])"
   ]
  },
  {
   "cell_type": "code",
   "execution_count": 140,
   "metadata": {},
   "outputs": [
    {
     "data": {
      "text/plain": [
       "Age                    0.224970\n",
       "LifetimeValue          0.219919\n",
       "Location_Quantified    0.108288\n",
       "Name: PurchaseProbability, dtype: float64"
      ]
     },
     "execution_count": 140,
     "metadata": {},
     "output_type": "execute_result"
    }
   ],
   "source": [
    "correlations = df_numerical.corr()['PurchaseProbability'].drop('PurchaseProbability').abs()\n",
    "\n",
    "# Seleccionar las tres variables con mayor correlación\n",
    "influential_variables = correlations.nlargest(3)\n",
    "\n",
    "influential_variables "
   ]
  },
  {
   "cell_type": "markdown",
   "metadata": {},
   "source": [
    "### Perfil promedio  \n",
    "- Calcular la edad promedio \n",
    "- ubicación más frecuente \n",
    "- frecuencia de compra promedio"
   ]
  },
  {
   "cell_type": "markdown",
   "metadata": {},
   "source": [
    "Conclusiones:\n",
    "\n",
    "las tres variables que más influyen en la probabilidad de que un cliente haga una compra son \n",
    "- `age with 22%`\n",
    "- `LifetimeValue with 22%`\n",
    "- `Location with  10%`"
   ]
  },
  {
   "cell_type": "markdown",
   "metadata": {},
   "source": [
    "## Parte B: Generación de Estrategias de Marcación "
   ]
  },
  {
   "cell_type": "markdown",
   "metadata": {},
   "source": [
    "### Describa una estrategia para priorizar las llamadas a clientes, incluyendo cualquier segmentación de clientes que considere relevante"
   ]
  },
  {
   "cell_type": "markdown",
   "metadata": {},
   "source": [
    "### Estrategia para Priorizar las Llamadas a Clientes"
   ]
  },
  {
   "cell_type": "markdown",
   "metadata": {},
   "source": [
    "- Segmentación por Valor de Vida `LifetimeValue`: Priorizar clientes con un alto valor de vida"
   ]
  },
  {
   "cell_type": "code",
   "execution_count": 141,
   "metadata": {},
   "outputs": [
    {
     "data": {
      "text/html": [
       "<div>\n",
       "<style scoped>\n",
       "    .dataframe tbody tr th:only-of-type {\n",
       "        vertical-align: middle;\n",
       "    }\n",
       "\n",
       "    .dataframe tbody tr th {\n",
       "        vertical-align: top;\n",
       "    }\n",
       "\n",
       "    .dataframe thead th {\n",
       "        text-align: right;\n",
       "    }\n",
       "</style>\n",
       "<table border=\"1\" class=\"dataframe\">\n",
       "  <thead>\n",
       "    <tr style=\"text-align: right;\">\n",
       "      <th></th>\n",
       "      <th>CustomerID</th>\n",
       "      <th>LifetimeValue</th>\n",
       "    </tr>\n",
       "  </thead>\n",
       "  <tbody>\n",
       "    <tr>\n",
       "      <th>19</th>\n",
       "      <td>20</td>\n",
       "      <td>9851.82</td>\n",
       "    </tr>\n",
       "    <tr>\n",
       "      <th>28</th>\n",
       "      <td>29</td>\n",
       "      <td>9808.93</td>\n",
       "    </tr>\n",
       "    <tr>\n",
       "      <th>16</th>\n",
       "      <td>17</td>\n",
       "      <td>9745.16</td>\n",
       "    </tr>\n",
       "    <tr>\n",
       "      <th>40</th>\n",
       "      <td>41</td>\n",
       "      <td>9533.42</td>\n",
       "    </tr>\n",
       "    <tr>\n",
       "      <th>38</th>\n",
       "      <td>39</td>\n",
       "      <td>9269.51</td>\n",
       "    </tr>\n",
       "    <tr>\n",
       "      <th>75</th>\n",
       "      <td>76</td>\n",
       "      <td>9259.12</td>\n",
       "    </tr>\n",
       "    <tr>\n",
       "      <th>96</th>\n",
       "      <td>97</td>\n",
       "      <td>9114.39</td>\n",
       "    </tr>\n",
       "    <tr>\n",
       "      <th>72</th>\n",
       "      <td>73</td>\n",
       "      <td>8931.29</td>\n",
       "    </tr>\n",
       "    <tr>\n",
       "      <th>44</th>\n",
       "      <td>45</td>\n",
       "      <td>8840.31</td>\n",
       "    </tr>\n",
       "    <tr>\n",
       "      <th>79</th>\n",
       "      <td>80</td>\n",
       "      <td>8838.82</td>\n",
       "    </tr>\n",
       "  </tbody>\n",
       "</table>\n",
       "</div>"
      ],
      "text/plain": [
       "    CustomerID  LifetimeValue\n",
       "19          20        9851.82\n",
       "28          29        9808.93\n",
       "16          17        9745.16\n",
       "40          41        9533.42\n",
       "38          39        9269.51\n",
       "75          76        9259.12\n",
       "96          97        9114.39\n",
       "72          73        8931.29\n",
       "44          45        8840.31\n",
       "79          80        8838.82"
      ]
     },
     "execution_count": 141,
     "metadata": {},
     "output_type": "execute_result"
    }
   ],
   "source": [
    "## Segmentación por Valor de Vida (Lifetime Value)\n",
    "top_10_lifetime_value"
   ]
  },
  {
   "cell_type": "markdown",
   "metadata": {},
   "source": [
    "- Segmentación por Probabilidad de Compra `PurchaseProbability`: Utilizar la probabilidad de compra como indicador para centrar los esfuerzos en clientes más propensos a realizar compras.\n"
   ]
  },
  {
   "cell_type": "code",
   "execution_count": 142,
   "metadata": {},
   "outputs": [
    {
     "data": {
      "text/html": [
       "<div>\n",
       "<style scoped>\n",
       "    .dataframe tbody tr th:only-of-type {\n",
       "        vertical-align: middle;\n",
       "    }\n",
       "\n",
       "    .dataframe tbody tr th {\n",
       "        vertical-align: top;\n",
       "    }\n",
       "\n",
       "    .dataframe thead th {\n",
       "        text-align: right;\n",
       "    }\n",
       "</style>\n",
       "<table border=\"1\" class=\"dataframe\">\n",
       "  <thead>\n",
       "    <tr style=\"text-align: right;\">\n",
       "      <th></th>\n",
       "      <th>CustomerID</th>\n",
       "      <th>PurchaseProbability</th>\n",
       "    </tr>\n",
       "  </thead>\n",
       "  <tbody>\n",
       "    <tr>\n",
       "      <th>1</th>\n",
       "      <td>2</td>\n",
       "      <td>0.98</td>\n",
       "    </tr>\n",
       "    <tr>\n",
       "      <th>72</th>\n",
       "      <td>73</td>\n",
       "      <td>0.98</td>\n",
       "    </tr>\n",
       "    <tr>\n",
       "      <th>77</th>\n",
       "      <td>78</td>\n",
       "      <td>0.98</td>\n",
       "    </tr>\n",
       "    <tr>\n",
       "      <th>23</th>\n",
       "      <td>24</td>\n",
       "      <td>0.97</td>\n",
       "    </tr>\n",
       "    <tr>\n",
       "      <th>79</th>\n",
       "      <td>80</td>\n",
       "      <td>0.97</td>\n",
       "    </tr>\n",
       "    <tr>\n",
       "      <th>88</th>\n",
       "      <td>89</td>\n",
       "      <td>0.97</td>\n",
       "    </tr>\n",
       "    <tr>\n",
       "      <th>69</th>\n",
       "      <td>70</td>\n",
       "      <td>0.96</td>\n",
       "    </tr>\n",
       "    <tr>\n",
       "      <th>28</th>\n",
       "      <td>29</td>\n",
       "      <td>0.94</td>\n",
       "    </tr>\n",
       "    <tr>\n",
       "      <th>97</th>\n",
       "      <td>98</td>\n",
       "      <td>0.94</td>\n",
       "    </tr>\n",
       "    <tr>\n",
       "      <th>16</th>\n",
       "      <td>17</td>\n",
       "      <td>0.93</td>\n",
       "    </tr>\n",
       "  </tbody>\n",
       "</table>\n",
       "</div>"
      ],
      "text/plain": [
       "    CustomerID  PurchaseProbability\n",
       "1            2                 0.98\n",
       "72          73                 0.98\n",
       "77          78                 0.98\n",
       "23          24                 0.97\n",
       "79          80                 0.97\n",
       "88          89                 0.97\n",
       "69          70                 0.96\n",
       "28          29                 0.94\n",
       "97          98                 0.94\n",
       "16          17                 0.93"
      ]
     },
     "execution_count": 142,
     "metadata": {},
     "output_type": "execute_result"
    }
   ],
   "source": [
    "top_10_Purchase_Probability = df.nlargest(10, 'PurchaseProbability')[['CustomerID', 'PurchaseProbability']]\n",
    "\n",
    "## Segmentación por Probabilidad de Compra (PurchaseProbability)\n",
    "top_10_Purchase_Probability\n"
   ]
  },
  {
   "cell_type": "markdown",
   "metadata": {},
   "source": [
    "### ¿Qué métricas utilizarías para evaluar el éxito de esta estrategia de marcación?"
   ]
  },
  {
   "cell_type": "code",
   "execution_count": 143,
   "metadata": {},
   "outputs": [
    {
     "name": "stdout",
     "output_type": "stream",
     "text": [
      "\n",
      "Tasa de Conversión: 0.56\n",
      "Ingresos Generados: 280893.33\n",
      "Ratio de Retorno de Inversión (ROI): -0.859553335\n",
      "Porcentaje de Retención de Clientes: 1.0\n"
     ]
    }
   ],
   "source": [
    "# Suponiendo que ya hemos realizado las llamadas y ahora queremos evaluar el éxito\n",
    "\n",
    "# Métricas\n",
    "conversion_rate = len(df[df['Contacted'] == 'Yes']) / len(df)  # Tasa de Conversión\n",
    "total_revenue = df[df['Contacted'] == 'Yes']['LifetimeValue'].sum()  # Ingresos Generados\n",
    "total_cost = 2000000  # Supongamos que tienes el costo total de las llamadas\n",
    "roi = (total_revenue - total_cost) / total_cost  # Ratio de Retorno de Inversión\n",
    "\n",
    "# Retención de Clientes (ejemplo de cálculo)\n",
    "clientes_retencionados = df[(df['Contacted'] == 'Yes') & (df['TotalPurchases'] > 0)]\n",
    "retencion_rate = len(clientes_retencionados) / len(df[df['Contacted'] == 'Yes'])\n",
    "\n",
    "# Mostrar métricas\n",
    "print(f\"\\nTasa de Conversión: {conversion_rate}\")\n",
    "print(f\"Ingresos Generados: {total_revenue}\")\n",
    "print(f\"Ratio de Retorno de Inversión (ROI): {roi}\")\n",
    "print(f\"Porcentaje de Retención de Clientes: {retencion_rate}\")\n"
   ]
  }
 ],
 "metadata": {
  "kernelspec": {
   "display_name": "Python 3",
   "language": "python",
   "name": "python3"
  },
  "language_info": {
   "codemirror_mode": {
    "name": "ipython",
    "version": 3
   },
   "file_extension": ".py",
   "mimetype": "text/x-python",
   "name": "python",
   "nbconvert_exporter": "python",
   "pygments_lexer": "ipython3",
   "version": "3.12.3"
  }
 },
 "nbformat": 4,
 "nbformat_minor": 2
}
