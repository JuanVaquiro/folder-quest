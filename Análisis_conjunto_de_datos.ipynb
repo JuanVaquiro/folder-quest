{
 "cells": [
  {
   "cell_type": "markdown",
   "metadata": {},
   "source": [
    "# Sección 1: Análisis de Datos\n"
   ]
  },
  {
   "cell_type": "markdown",
   "metadata": {},
   "source": [
    "#### Import library"
   ]
  },
  {
   "cell_type": "code",
   "execution_count": 111,
   "metadata": {},
   "outputs": [],
   "source": [
    "import pandas as pd\n",
    "import seaborn as sns\n",
    "import matplotlib.pyplot as plt\n",
    "%matplotlib inline"
   ]
  },
  {
   "cell_type": "markdown",
   "metadata": {},
   "source": [
    "## Parte A: Análisis de un conjunto de datos"
   ]
  },
  {
   "cell_type": "markdown",
   "metadata": {},
   "source": [
    "### DATA LOADING"
   ]
  },
  {
   "cell_type": "code",
   "execution_count": 112,
   "metadata": {},
   "outputs": [],
   "source": [
    "df = pd.read_csv('customer_data.csv', sep = ',', na_values='#N/D')"
   ]
  },
  {
   "cell_type": "code",
   "execution_count": 113,
   "metadata": {},
   "outputs": [
    {
     "data": {
      "text/html": [
       "<div>\n",
       "<style scoped>\n",
       "    .dataframe tbody tr th:only-of-type {\n",
       "        vertical-align: middle;\n",
       "    }\n",
       "\n",
       "    .dataframe tbody tr th {\n",
       "        vertical-align: top;\n",
       "    }\n",
       "\n",
       "    .dataframe thead th {\n",
       "        text-align: right;\n",
       "    }\n",
       "</style>\n",
       "<table border=\"1\" class=\"dataframe\">\n",
       "  <thead>\n",
       "    <tr style=\"text-align: right;\">\n",
       "      <th></th>\n",
       "      <th>CustomerID</th>\n",
       "      <th>Age</th>\n",
       "      <th>Location</th>\n",
       "      <th>TotalPurchases</th>\n",
       "      <th>LastPurchaseDate</th>\n",
       "      <th>LifetimeValue</th>\n",
       "      <th>Contacted</th>\n",
       "      <th>PurchaseProbability</th>\n",
       "    </tr>\n",
       "  </thead>\n",
       "  <tbody>\n",
       "    <tr>\n",
       "      <th>0</th>\n",
       "      <td>1</td>\n",
       "      <td>62</td>\n",
       "      <td>West</td>\n",
       "      <td>1</td>\n",
       "      <td>4/3/2024 20:45</td>\n",
       "      <td>1898.15</td>\n",
       "      <td>Yes</td>\n",
       "      <td>0.49</td>\n",
       "    </tr>\n",
       "    <tr>\n",
       "      <th>1</th>\n",
       "      <td>2</td>\n",
       "      <td>65</td>\n",
       "      <td>South</td>\n",
       "      <td>5</td>\n",
       "      <td>45:50.9</td>\n",
       "      <td>5172.70</td>\n",
       "      <td>Yes</td>\n",
       "      <td>0.98</td>\n",
       "    </tr>\n",
       "    <tr>\n",
       "      <th>2</th>\n",
       "      <td>3</td>\n",
       "      <td>18</td>\n",
       "      <td>South</td>\n",
       "      <td>4</td>\n",
       "      <td>5/25/2024 20:45</td>\n",
       "      <td>5846.43</td>\n",
       "      <td>Yes</td>\n",
       "      <td>0.24</td>\n",
       "    </tr>\n",
       "    <tr>\n",
       "      <th>3</th>\n",
       "      <td>4</td>\n",
       "      <td>21</td>\n",
       "      <td>South</td>\n",
       "      <td>14</td>\n",
       "      <td>45:50.9</td>\n",
       "      <td>7896.67</td>\n",
       "      <td>No</td>\n",
       "      <td>0.37</td>\n",
       "    </tr>\n",
       "    <tr>\n",
       "      <th>4</th>\n",
       "      <td>5</td>\n",
       "      <td>21</td>\n",
       "      <td>North</td>\n",
       "      <td>12</td>\n",
       "      <td>45:50.9</td>\n",
       "      <td>6104.11</td>\n",
       "      <td>Yes</td>\n",
       "      <td>0.05</td>\n",
       "    </tr>\n",
       "  </tbody>\n",
       "</table>\n",
       "</div>"
      ],
      "text/plain": [
       "   CustomerID  Age Location  TotalPurchases LastPurchaseDate  LifetimeValue  \\\n",
       "0           1   62     West               1   4/3/2024 20:45        1898.15   \n",
       "1           2   65    South               5          45:50.9        5172.70   \n",
       "2           3   18    South               4  5/25/2024 20:45        5846.43   \n",
       "3           4   21    South              14          45:50.9        7896.67   \n",
       "4           5   21    North              12          45:50.9        6104.11   \n",
       "\n",
       "  Contacted  PurchaseProbability  \n",
       "0       Yes                 0.49  \n",
       "1       Yes                 0.98  \n",
       "2       Yes                 0.24  \n",
       "3        No                 0.37  \n",
       "4       Yes                 0.05  "
      ]
     },
     "execution_count": 113,
     "metadata": {},
     "output_type": "execute_result"
    }
   ],
   "source": [
    "df.head()"
   ]
  },
  {
   "cell_type": "markdown",
   "metadata": {},
   "source": [
    "### BUSINESS ANALYTICS"
   ]
  },
  {
   "cell_type": "code",
   "execution_count": 114,
   "metadata": {},
   "outputs": [
    {
     "name": "stdout",
     "output_type": "stream",
     "text": [
      "<class 'pandas.core.frame.DataFrame'>\n",
      "RangeIndex: 100 entries, 0 to 99\n",
      "Data columns (total 8 columns):\n",
      " #   Column               Non-Null Count  Dtype  \n",
      "---  ------               --------------  -----  \n",
      " 0   CustomerID           100 non-null    int64  \n",
      " 1   Age                  100 non-null    int64  \n",
      " 2   Location             100 non-null    object \n",
      " 3   TotalPurchases       100 non-null    int64  \n",
      " 4   LastPurchaseDate     100 non-null    object \n",
      " 5   LifetimeValue        100 non-null    float64\n",
      " 6   Contacted            100 non-null    object \n",
      " 7   PurchaseProbability  100 non-null    float64\n",
      "dtypes: float64(2), int64(3), object(3)\n",
      "memory usage: 6.4+ KB\n"
     ]
    }
   ],
   "source": [
    "df.info()"
   ]
  },
  {
   "cell_type": "markdown",
   "metadata": {},
   "source": [
    "### Perfil promedio  \n",
    "- Calcular la edad promedio \n",
    "- ubicación más frecuente \n",
    "- frecuencia de compra promedio"
   ]
  },
  {
   "cell_type": "code",
   "execution_count": 115,
   "metadata": {},
   "outputs": [
    {
     "data": {
      "text/plain": [
       "{'Edad Promedio': 41.57,\n",
       " 'Ubicación Más Frecuente': 'East',\n",
       " 'Frecuencia de Compra Promedio': 9.48}"
      ]
     },
     "execution_count": 115,
     "metadata": {},
     "output_type": "execute_result"
    }
   ],
   "source": [
    "age_average = df['Age'].mean() \n",
    "location_frequent = df['Location'].mode()[0]\n",
    "frequency_average_purchase = df['TotalPurchases'].mean()\n",
    "\n",
    "average_profile = {\n",
    "    'Edad Promedio': age_average,\n",
    "    'Ubicación Más Frecuente': location_frequent,\n",
    "    'Frecuencia de Compra Promedio': frequency_average_purchase\n",
    "}\n",
    "\n",
    "average_profile\n"
   ]
  },
  {
   "cell_type": "markdown",
   "metadata": {},
   "source": [
    "Conclusiones: \n",
    "\n",
    "- `Edad Promedio: 41.57%,`\n",
    "- `Ubicación Más Frecuente: 'East',`\n",
    "- `Frecuencia de Compra Promedio: 9%`"
   ]
  },
  {
   "cell_type": "markdown",
   "metadata": {},
   "source": [
    "### Identificar los 10 clientes con el mayor valor de vida (Lifetime Value)"
   ]
  },
  {
   "cell_type": "code",
   "execution_count": 116,
   "metadata": {},
   "outputs": [
    {
     "data": {
      "text/html": [
       "<div>\n",
       "<style scoped>\n",
       "    .dataframe tbody tr th:only-of-type {\n",
       "        vertical-align: middle;\n",
       "    }\n",
       "\n",
       "    .dataframe tbody tr th {\n",
       "        vertical-align: top;\n",
       "    }\n",
       "\n",
       "    .dataframe thead th {\n",
       "        text-align: right;\n",
       "    }\n",
       "</style>\n",
       "<table border=\"1\" class=\"dataframe\">\n",
       "  <thead>\n",
       "    <tr style=\"text-align: right;\">\n",
       "      <th></th>\n",
       "      <th>CustomerID</th>\n",
       "      <th>LifetimeValue</th>\n",
       "    </tr>\n",
       "  </thead>\n",
       "  <tbody>\n",
       "    <tr>\n",
       "      <th>19</th>\n",
       "      <td>20</td>\n",
       "      <td>9851.82</td>\n",
       "    </tr>\n",
       "    <tr>\n",
       "      <th>28</th>\n",
       "      <td>29</td>\n",
       "      <td>9808.93</td>\n",
       "    </tr>\n",
       "    <tr>\n",
       "      <th>16</th>\n",
       "      <td>17</td>\n",
       "      <td>9745.16</td>\n",
       "    </tr>\n",
       "    <tr>\n",
       "      <th>40</th>\n",
       "      <td>41</td>\n",
       "      <td>9533.42</td>\n",
       "    </tr>\n",
       "    <tr>\n",
       "      <th>38</th>\n",
       "      <td>39</td>\n",
       "      <td>9269.51</td>\n",
       "    </tr>\n",
       "    <tr>\n",
       "      <th>75</th>\n",
       "      <td>76</td>\n",
       "      <td>9259.12</td>\n",
       "    </tr>\n",
       "    <tr>\n",
       "      <th>96</th>\n",
       "      <td>97</td>\n",
       "      <td>9114.39</td>\n",
       "    </tr>\n",
       "    <tr>\n",
       "      <th>72</th>\n",
       "      <td>73</td>\n",
       "      <td>8931.29</td>\n",
       "    </tr>\n",
       "    <tr>\n",
       "      <th>44</th>\n",
       "      <td>45</td>\n",
       "      <td>8840.31</td>\n",
       "    </tr>\n",
       "    <tr>\n",
       "      <th>79</th>\n",
       "      <td>80</td>\n",
       "      <td>8838.82</td>\n",
       "    </tr>\n",
       "  </tbody>\n",
       "</table>\n",
       "</div>"
      ],
      "text/plain": [
       "    CustomerID  LifetimeValue\n",
       "19          20        9851.82\n",
       "28          29        9808.93\n",
       "16          17        9745.16\n",
       "40          41        9533.42\n",
       "38          39        9269.51\n",
       "75          76        9259.12\n",
       "96          97        9114.39\n",
       "72          73        8931.29\n",
       "44          45        8840.31\n",
       "79          80        8838.82"
      ]
     },
     "execution_count": 116,
     "metadata": {},
     "output_type": "execute_result"
    }
   ],
   "source": [
    "top_10_lifetime_value = df.nlargest(10, 'LifetimeValue')[['CustomerID', 'LifetimeValue']]\n",
    "\n",
    "top_10_lifetime_value\n",
    "\n",
    "# Los siguientes CustomerID conrrespoenden a los 10 clientes con el mayor valor de vida "
   ]
  },
  {
   "cell_type": "markdown",
   "metadata": {},
   "source": [
    "#### Explica cómo los seleccionaste\n",
    "\n",
    "`El método nlargest()` de pandas se utiliza para obtener las filas con los valores más grandes en una columna o en varias columnas específicas de un DataFrame. Este método es muy útil cuando necesitas extraer las filas con los valores más altos según ciertos criterios."
   ]
  },
  {
   "cell_type": "markdown",
   "metadata": {},
   "source": [
    "### Encuentra las tres variables que más influyen en la probabilidad de que un cliente haga una compra."
   ]
  },
  {
   "cell_type": "markdown",
   "metadata": {},
   "source": [
    " Cuantificar los valores de `location` para analizar si se encuentra dentro las tres varialbes que influyan en la probabilidad de compra"
   ]
  },
  {
   "cell_type": "code",
   "execution_count": 117,
   "metadata": {},
   "outputs": [
    {
     "data": {
      "text/html": [
       "<div>\n",
       "<style scoped>\n",
       "    .dataframe tbody tr th:only-of-type {\n",
       "        vertical-align: middle;\n",
       "    }\n",
       "\n",
       "    .dataframe tbody tr th {\n",
       "        vertical-align: top;\n",
       "    }\n",
       "\n",
       "    .dataframe thead th {\n",
       "        text-align: right;\n",
       "    }\n",
       "</style>\n",
       "<table border=\"1\" class=\"dataframe\">\n",
       "  <thead>\n",
       "    <tr style=\"text-align: right;\">\n",
       "      <th></th>\n",
       "      <th>CustomerID</th>\n",
       "      <th>Age</th>\n",
       "      <th>Location</th>\n",
       "      <th>TotalPurchases</th>\n",
       "      <th>LastPurchaseDate</th>\n",
       "      <th>LifetimeValue</th>\n",
       "      <th>Contacted</th>\n",
       "      <th>PurchaseProbability</th>\n",
       "      <th>Location_Quantified</th>\n",
       "    </tr>\n",
       "  </thead>\n",
       "  <tbody>\n",
       "    <tr>\n",
       "      <th>0</th>\n",
       "      <td>1</td>\n",
       "      <td>62</td>\n",
       "      <td>West</td>\n",
       "      <td>1</td>\n",
       "      <td>4/3/2024 20:45</td>\n",
       "      <td>1898.15</td>\n",
       "      <td>Yes</td>\n",
       "      <td>0.49</td>\n",
       "      <td>1</td>\n",
       "    </tr>\n",
       "    <tr>\n",
       "      <th>1</th>\n",
       "      <td>2</td>\n",
       "      <td>65</td>\n",
       "      <td>South</td>\n",
       "      <td>5</td>\n",
       "      <td>45:50.9</td>\n",
       "      <td>5172.70</td>\n",
       "      <td>Yes</td>\n",
       "      <td>0.98</td>\n",
       "      <td>2</td>\n",
       "    </tr>\n",
       "    <tr>\n",
       "      <th>2</th>\n",
       "      <td>3</td>\n",
       "      <td>18</td>\n",
       "      <td>South</td>\n",
       "      <td>4</td>\n",
       "      <td>5/25/2024 20:45</td>\n",
       "      <td>5846.43</td>\n",
       "      <td>Yes</td>\n",
       "      <td>0.24</td>\n",
       "      <td>2</td>\n",
       "    </tr>\n",
       "    <tr>\n",
       "      <th>3</th>\n",
       "      <td>4</td>\n",
       "      <td>21</td>\n",
       "      <td>South</td>\n",
       "      <td>14</td>\n",
       "      <td>45:50.9</td>\n",
       "      <td>7896.67</td>\n",
       "      <td>No</td>\n",
       "      <td>0.37</td>\n",
       "      <td>2</td>\n",
       "    </tr>\n",
       "    <tr>\n",
       "      <th>4</th>\n",
       "      <td>5</td>\n",
       "      <td>21</td>\n",
       "      <td>North</td>\n",
       "      <td>12</td>\n",
       "      <td>45:50.9</td>\n",
       "      <td>6104.11</td>\n",
       "      <td>Yes</td>\n",
       "      <td>0.05</td>\n",
       "      <td>3</td>\n",
       "    </tr>\n",
       "    <tr>\n",
       "      <th>...</th>\n",
       "      <td>...</td>\n",
       "      <td>...</td>\n",
       "      <td>...</td>\n",
       "      <td>...</td>\n",
       "      <td>...</td>\n",
       "      <td>...</td>\n",
       "      <td>...</td>\n",
       "      <td>...</td>\n",
       "      <td>...</td>\n",
       "    </tr>\n",
       "    <tr>\n",
       "      <th>95</th>\n",
       "      <td>96</td>\n",
       "      <td>32</td>\n",
       "      <td>North</td>\n",
       "      <td>6</td>\n",
       "      <td>45:50.9</td>\n",
       "      <td>1013.38</td>\n",
       "      <td>No</td>\n",
       "      <td>0.39</td>\n",
       "      <td>3</td>\n",
       "    </tr>\n",
       "    <tr>\n",
       "      <th>96</th>\n",
       "      <td>97</td>\n",
       "      <td>33</td>\n",
       "      <td>West</td>\n",
       "      <td>13</td>\n",
       "      <td>45:50.9</td>\n",
       "      <td>9114.39</td>\n",
       "      <td>No</td>\n",
       "      <td>0.53</td>\n",
       "      <td>1</td>\n",
       "    </tr>\n",
       "    <tr>\n",
       "      <th>97</th>\n",
       "      <td>98</td>\n",
       "      <td>38</td>\n",
       "      <td>North</td>\n",
       "      <td>13</td>\n",
       "      <td>45:50.9</td>\n",
       "      <td>921.42</td>\n",
       "      <td>No</td>\n",
       "      <td>0.94</td>\n",
       "      <td>3</td>\n",
       "    </tr>\n",
       "    <tr>\n",
       "      <th>98</th>\n",
       "      <td>99</td>\n",
       "      <td>53</td>\n",
       "      <td>South</td>\n",
       "      <td>3</td>\n",
       "      <td>45:50.9</td>\n",
       "      <td>8023.75</td>\n",
       "      <td>No</td>\n",
       "      <td>0.89</td>\n",
       "      <td>2</td>\n",
       "    </tr>\n",
       "    <tr>\n",
       "      <th>99</th>\n",
       "      <td>100</td>\n",
       "      <td>41</td>\n",
       "      <td>East</td>\n",
       "      <td>16</td>\n",
       "      <td>45:50.9</td>\n",
       "      <td>8783.60</td>\n",
       "      <td>No</td>\n",
       "      <td>0.68</td>\n",
       "      <td>4</td>\n",
       "    </tr>\n",
       "  </tbody>\n",
       "</table>\n",
       "<p>100 rows × 9 columns</p>\n",
       "</div>"
      ],
      "text/plain": [
       "    CustomerID  Age Location  TotalPurchases LastPurchaseDate  LifetimeValue  \\\n",
       "0            1   62     West               1   4/3/2024 20:45        1898.15   \n",
       "1            2   65    South               5          45:50.9        5172.70   \n",
       "2            3   18    South               4  5/25/2024 20:45        5846.43   \n",
       "3            4   21    South              14          45:50.9        7896.67   \n",
       "4            5   21    North              12          45:50.9        6104.11   \n",
       "..         ...  ...      ...             ...              ...            ...   \n",
       "95          96   32    North               6          45:50.9        1013.38   \n",
       "96          97   33     West              13          45:50.9        9114.39   \n",
       "97          98   38    North              13          45:50.9         921.42   \n",
       "98          99   53    South               3          45:50.9        8023.75   \n",
       "99         100   41     East              16          45:50.9        8783.60   \n",
       "\n",
       "   Contacted  PurchaseProbability  Location_Quantified  \n",
       "0        Yes                 0.49                    1  \n",
       "1        Yes                 0.98                    2  \n",
       "2        Yes                 0.24                    2  \n",
       "3         No                 0.37                    2  \n",
       "4        Yes                 0.05                    3  \n",
       "..       ...                  ...                  ...  \n",
       "95        No                 0.39                    3  \n",
       "96        No                 0.53                    1  \n",
       "97        No                 0.94                    3  \n",
       "98        No                 0.89                    2  \n",
       "99        No                 0.68                    4  \n",
       "\n",
       "[100 rows x 9 columns]"
      ]
     },
     "execution_count": 117,
     "metadata": {},
     "output_type": "execute_result"
    }
   ],
   "source": [
    "location_mapping = {'West': 1, 'South': 2, 'North': 3, 'East': 4}\n",
    "df['Location_Quantified'] = df['Location'].map(location_mapping)\n",
    "\n",
    "df"
   ]
  },
  {
   "cell_type": "code",
   "execution_count": 118,
   "metadata": {},
   "outputs": [],
   "source": [
    "# Seleccionar solo las columnas numericas\n",
    "df_numerical = df.select_dtypes(include=['number'])"
   ]
  },
  {
   "cell_type": "code",
   "execution_count": 119,
   "metadata": {},
   "outputs": [
    {
     "data": {
      "text/plain": [
       "Age                    0.224970\n",
       "LifetimeValue          0.219919\n",
       "Location_Quantified    0.108288\n",
       "Name: PurchaseProbability, dtype: float64"
      ]
     },
     "execution_count": 119,
     "metadata": {},
     "output_type": "execute_result"
    }
   ],
   "source": [
    "# Calcular la correlación entre la probabilidad de compra y las otras variables numéricas\n",
    "correlations = df_numerical.corr()['PurchaseProbability'].drop('PurchaseProbability').abs()\n",
    "\n",
    "# Seleccionar las tres variables con mayor correlación\n",
    "influential_variables = correlations.nlargest(3)\n",
    "\n",
    "influential_variables "
   ]
  },
  {
   "cell_type": "markdown",
   "metadata": {},
   "source": [
    "Conclusiones:\n",
    "\n",
    "las tres variables que más influyen en la probabilidad de que un cliente haga una compra son \n",
    "- `age with 22%`\n",
    "- `LifetimeValue with 21%`\n",
    "- `Location with  10%`"
   ]
  },
  {
   "cell_type": "markdown",
   "metadata": {},
   "source": [
    "## Parte B: Generación de Estrategias de Marcación "
   ]
  },
  {
   "cell_type": "markdown",
   "metadata": {},
   "source": [
    "### Describa una estrategia para priorizar las llamadas a clientes, incluyendo cualquier segmentación de clientes que considere relevante"
   ]
  },
  {
   "cell_type": "markdown",
   "metadata": {},
   "source": [
    "### Estrategia para Priorizar las Llamadas a Clientes"
   ]
  },
  {
   "cell_type": "markdown",
   "metadata": {},
   "source": [
    "- Segmentación por Valor de Vida `LifetimeValue`: Priorizar clientes con un alto valor de vida"
   ]
  },
  {
   "cell_type": "code",
   "execution_count": 120,
   "metadata": {},
   "outputs": [
    {
     "data": {
      "text/html": [
       "<div>\n",
       "<style scoped>\n",
       "    .dataframe tbody tr th:only-of-type {\n",
       "        vertical-align: middle;\n",
       "    }\n",
       "\n",
       "    .dataframe tbody tr th {\n",
       "        vertical-align: top;\n",
       "    }\n",
       "\n",
       "    .dataframe thead th {\n",
       "        text-align: right;\n",
       "    }\n",
       "</style>\n",
       "<table border=\"1\" class=\"dataframe\">\n",
       "  <thead>\n",
       "    <tr style=\"text-align: right;\">\n",
       "      <th></th>\n",
       "      <th>CustomerID</th>\n",
       "      <th>LifetimeValue</th>\n",
       "    </tr>\n",
       "  </thead>\n",
       "  <tbody>\n",
       "    <tr>\n",
       "      <th>19</th>\n",
       "      <td>20</td>\n",
       "      <td>9851.82</td>\n",
       "    </tr>\n",
       "    <tr>\n",
       "      <th>28</th>\n",
       "      <td>29</td>\n",
       "      <td>9808.93</td>\n",
       "    </tr>\n",
       "    <tr>\n",
       "      <th>16</th>\n",
       "      <td>17</td>\n",
       "      <td>9745.16</td>\n",
       "    </tr>\n",
       "    <tr>\n",
       "      <th>40</th>\n",
       "      <td>41</td>\n",
       "      <td>9533.42</td>\n",
       "    </tr>\n",
       "    <tr>\n",
       "      <th>38</th>\n",
       "      <td>39</td>\n",
       "      <td>9269.51</td>\n",
       "    </tr>\n",
       "    <tr>\n",
       "      <th>75</th>\n",
       "      <td>76</td>\n",
       "      <td>9259.12</td>\n",
       "    </tr>\n",
       "    <tr>\n",
       "      <th>96</th>\n",
       "      <td>97</td>\n",
       "      <td>9114.39</td>\n",
       "    </tr>\n",
       "    <tr>\n",
       "      <th>72</th>\n",
       "      <td>73</td>\n",
       "      <td>8931.29</td>\n",
       "    </tr>\n",
       "    <tr>\n",
       "      <th>44</th>\n",
       "      <td>45</td>\n",
       "      <td>8840.31</td>\n",
       "    </tr>\n",
       "    <tr>\n",
       "      <th>79</th>\n",
       "      <td>80</td>\n",
       "      <td>8838.82</td>\n",
       "    </tr>\n",
       "  </tbody>\n",
       "</table>\n",
       "</div>"
      ],
      "text/plain": [
       "    CustomerID  LifetimeValue\n",
       "19          20        9851.82\n",
       "28          29        9808.93\n",
       "16          17        9745.16\n",
       "40          41        9533.42\n",
       "38          39        9269.51\n",
       "75          76        9259.12\n",
       "96          97        9114.39\n",
       "72          73        8931.29\n",
       "44          45        8840.31\n",
       "79          80        8838.82"
      ]
     },
     "execution_count": 120,
     "metadata": {},
     "output_type": "execute_result"
    }
   ],
   "source": [
    "## Segmentación por Valor de Vida (Lifetime Value)\n",
    "top_10_lifetime_value"
   ]
  },
  {
   "cell_type": "markdown",
   "metadata": {},
   "source": [
    "- Segmentación por Probabilidad de Compra `PurchaseProbability`: Utilizar la probabilidad de compra como indicador para centrar los esfuerzos en clientes más propensos a realizar compras.\n"
   ]
  },
  {
   "cell_type": "code",
   "execution_count": 121,
   "metadata": {},
   "outputs": [
    {
     "data": {
      "text/html": [
       "<div>\n",
       "<style scoped>\n",
       "    .dataframe tbody tr th:only-of-type {\n",
       "        vertical-align: middle;\n",
       "    }\n",
       "\n",
       "    .dataframe tbody tr th {\n",
       "        vertical-align: top;\n",
       "    }\n",
       "\n",
       "    .dataframe thead th {\n",
       "        text-align: right;\n",
       "    }\n",
       "</style>\n",
       "<table border=\"1\" class=\"dataframe\">\n",
       "  <thead>\n",
       "    <tr style=\"text-align: right;\">\n",
       "      <th></th>\n",
       "      <th>CustomerID</th>\n",
       "      <th>PurchaseProbability</th>\n",
       "    </tr>\n",
       "  </thead>\n",
       "  <tbody>\n",
       "    <tr>\n",
       "      <th>1</th>\n",
       "      <td>2</td>\n",
       "      <td>0.98</td>\n",
       "    </tr>\n",
       "    <tr>\n",
       "      <th>72</th>\n",
       "      <td>73</td>\n",
       "      <td>0.98</td>\n",
       "    </tr>\n",
       "    <tr>\n",
       "      <th>77</th>\n",
       "      <td>78</td>\n",
       "      <td>0.98</td>\n",
       "    </tr>\n",
       "    <tr>\n",
       "      <th>23</th>\n",
       "      <td>24</td>\n",
       "      <td>0.97</td>\n",
       "    </tr>\n",
       "    <tr>\n",
       "      <th>79</th>\n",
       "      <td>80</td>\n",
       "      <td>0.97</td>\n",
       "    </tr>\n",
       "    <tr>\n",
       "      <th>88</th>\n",
       "      <td>89</td>\n",
       "      <td>0.97</td>\n",
       "    </tr>\n",
       "    <tr>\n",
       "      <th>69</th>\n",
       "      <td>70</td>\n",
       "      <td>0.96</td>\n",
       "    </tr>\n",
       "    <tr>\n",
       "      <th>28</th>\n",
       "      <td>29</td>\n",
       "      <td>0.94</td>\n",
       "    </tr>\n",
       "    <tr>\n",
       "      <th>97</th>\n",
       "      <td>98</td>\n",
       "      <td>0.94</td>\n",
       "    </tr>\n",
       "    <tr>\n",
       "      <th>16</th>\n",
       "      <td>17</td>\n",
       "      <td>0.93</td>\n",
       "    </tr>\n",
       "  </tbody>\n",
       "</table>\n",
       "</div>"
      ],
      "text/plain": [
       "    CustomerID  PurchaseProbability\n",
       "1            2                 0.98\n",
       "72          73                 0.98\n",
       "77          78                 0.98\n",
       "23          24                 0.97\n",
       "79          80                 0.97\n",
       "88          89                 0.97\n",
       "69          70                 0.96\n",
       "28          29                 0.94\n",
       "97          98                 0.94\n",
       "16          17                 0.93"
      ]
     },
     "execution_count": 121,
     "metadata": {},
     "output_type": "execute_result"
    }
   ],
   "source": [
    "top_10_Purchase_Probability = df.nlargest(10, 'PurchaseProbability')[['CustomerID', 'PurchaseProbability']]\n",
    "\n",
    "## Segmentación por Probabilidad de Compra (PurchaseProbability)\n",
    "top_10_Purchase_Probability\n"
   ]
  },
  {
   "cell_type": "markdown",
   "metadata": {},
   "source": [
    "# Sección 2: Análisis de Causa Raíz "
   ]
  },
  {
   "cell_type": "code",
   "execution_count": 123,
   "metadata": {},
   "outputs": [
    {
     "data": {
      "text/html": [
       "<div>\n",
       "<style scoped>\n",
       "    .dataframe tbody tr th:only-of-type {\n",
       "        vertical-align: middle;\n",
       "    }\n",
       "\n",
       "    .dataframe tbody tr th {\n",
       "        vertical-align: top;\n",
       "    }\n",
       "\n",
       "    .dataframe thead th {\n",
       "        text-align: right;\n",
       "    }\n",
       "</style>\n",
       "<table border=\"1\" class=\"dataframe\">\n",
       "  <thead>\n",
       "    <tr style=\"text-align: right;\">\n",
       "      <th></th>\n",
       "      <th>CaseID</th>\n",
       "      <th>ResolutionTime</th>\n",
       "      <th>CustomerSatisfaction</th>\n",
       "      <th>NumberOfInteractions</th>\n",
       "      <th>ComplaintType</th>\n",
       "      <th>Resolved</th>\n",
       "      <th>CustomerFeedback</th>\n",
       "    </tr>\n",
       "  </thead>\n",
       "  <tbody>\n",
       "    <tr>\n",
       "      <th>0</th>\n",
       "      <td>1</td>\n",
       "      <td>34</td>\n",
       "      <td>2</td>\n",
       "      <td>7</td>\n",
       "      <td>Service</td>\n",
       "      <td>Yes</td>\n",
       "      <td>Negative</td>\n",
       "    </tr>\n",
       "    <tr>\n",
       "      <th>1</th>\n",
       "      <td>2</td>\n",
       "      <td>24</td>\n",
       "      <td>4</td>\n",
       "      <td>3</td>\n",
       "      <td>Product</td>\n",
       "      <td>No</td>\n",
       "      <td>Positive</td>\n",
       "    </tr>\n",
       "    <tr>\n",
       "      <th>2</th>\n",
       "      <td>3</td>\n",
       "      <td>13</td>\n",
       "      <td>1</td>\n",
       "      <td>4</td>\n",
       "      <td>Product</td>\n",
       "      <td>No</td>\n",
       "      <td>Negative</td>\n",
       "    </tr>\n",
       "    <tr>\n",
       "      <th>3</th>\n",
       "      <td>4</td>\n",
       "      <td>6</td>\n",
       "      <td>4</td>\n",
       "      <td>6</td>\n",
       "      <td>Service</td>\n",
       "      <td>Yes</td>\n",
       "      <td>Neutral</td>\n",
       "    </tr>\n",
       "    <tr>\n",
       "      <th>4</th>\n",
       "      <td>5</td>\n",
       "      <td>39</td>\n",
       "      <td>3</td>\n",
       "      <td>8</td>\n",
       "      <td>Product</td>\n",
       "      <td>Yes</td>\n",
       "      <td>Positive</td>\n",
       "    </tr>\n",
       "    <tr>\n",
       "      <th>5</th>\n",
       "      <td>6</td>\n",
       "      <td>2</td>\n",
       "      <td>2</td>\n",
       "      <td>1</td>\n",
       "      <td>Product</td>\n",
       "      <td>No</td>\n",
       "      <td>Positive</td>\n",
       "    </tr>\n",
       "    <tr>\n",
       "      <th>6</th>\n",
       "      <td>7</td>\n",
       "      <td>11</td>\n",
       "      <td>1</td>\n",
       "      <td>8</td>\n",
       "      <td>Service</td>\n",
       "      <td>No</td>\n",
       "      <td>Positive</td>\n",
       "    </tr>\n",
       "    <tr>\n",
       "      <th>7</th>\n",
       "      <td>8</td>\n",
       "      <td>7</td>\n",
       "      <td>1</td>\n",
       "      <td>2</td>\n",
       "      <td>Product</td>\n",
       "      <td>No</td>\n",
       "      <td>Positive</td>\n",
       "    </tr>\n",
       "    <tr>\n",
       "      <th>8</th>\n",
       "      <td>9</td>\n",
       "      <td>7</td>\n",
       "      <td>4</td>\n",
       "      <td>3</td>\n",
       "      <td>Service</td>\n",
       "      <td>No</td>\n",
       "      <td>Positive</td>\n",
       "    </tr>\n",
       "    <tr>\n",
       "      <th>9</th>\n",
       "      <td>10</td>\n",
       "      <td>39</td>\n",
       "      <td>5</td>\n",
       "      <td>6</td>\n",
       "      <td>Other</td>\n",
       "      <td>Yes</td>\n",
       "      <td>Positive</td>\n",
       "    </tr>\n",
       "    <tr>\n",
       "      <th>10</th>\n",
       "      <td>11</td>\n",
       "      <td>51</td>\n",
       "      <td>2</td>\n",
       "      <td>1</td>\n",
       "      <td>Other</td>\n",
       "      <td>Yes</td>\n",
       "      <td>Neutral</td>\n",
       "    </tr>\n",
       "    <tr>\n",
       "      <th>11</th>\n",
       "      <td>12</td>\n",
       "      <td>52</td>\n",
       "      <td>1</td>\n",
       "      <td>6</td>\n",
       "      <td>Product</td>\n",
       "      <td>Yes</td>\n",
       "      <td>Positive</td>\n",
       "    </tr>\n",
       "  </tbody>\n",
       "</table>\n",
       "</div>"
      ],
      "text/plain": [
       "    CaseID  ResolutionTime  CustomerSatisfaction  NumberOfInteractions  \\\n",
       "0        1              34                     2                     7   \n",
       "1        2              24                     4                     3   \n",
       "2        3              13                     1                     4   \n",
       "3        4               6                     4                     6   \n",
       "4        5              39                     3                     8   \n",
       "5        6               2                     2                     1   \n",
       "6        7              11                     1                     8   \n",
       "7        8               7                     1                     2   \n",
       "8        9               7                     4                     3   \n",
       "9       10              39                     5                     6   \n",
       "10      11              51                     2                     1   \n",
       "11      12              52                     1                     6   \n",
       "\n",
       "   ComplaintType Resolved CustomerFeedback  \n",
       "0        Service      Yes         Negative  \n",
       "1        Product       No         Positive  \n",
       "2        Product       No         Negative  \n",
       "3        Service      Yes          Neutral  \n",
       "4        Product      Yes         Positive  \n",
       "5        Product       No         Positive  \n",
       "6        Service       No         Positive  \n",
       "7        Product       No         Positive  \n",
       "8        Service       No         Positive  \n",
       "9          Other      Yes         Positive  \n",
       "10         Other      Yes          Neutral  \n",
       "11       Product      Yes         Positive  "
      ]
     },
     "execution_count": 123,
     "metadata": {},
     "output_type": "execute_result"
    }
   ],
   "source": [
    "df_service = pd.read_csv('service_campaign_data.csv', sep = ',', na_values='#N/D')\n",
    "\n",
    "df_service.head(12)"
   ]
  },
  {
   "cell_type": "code",
   "execution_count": 124,
   "metadata": {},
   "outputs": [
    {
     "name": "stdout",
     "output_type": "stream",
     "text": [
      "<class 'pandas.core.frame.DataFrame'>\n",
      "RangeIndex: 100 entries, 0 to 99\n",
      "Data columns (total 7 columns):\n",
      " #   Column                Non-Null Count  Dtype \n",
      "---  ------                --------------  ----- \n",
      " 0   CaseID                100 non-null    int64 \n",
      " 1   ResolutionTime        100 non-null    int64 \n",
      " 2   CustomerSatisfaction  100 non-null    int64 \n",
      " 3   NumberOfInteractions  100 non-null    int64 \n",
      " 4   ComplaintType         100 non-null    object\n",
      " 5   Resolved              100 non-null    object\n",
      " 6   CustomerFeedback      100 non-null    object\n",
      "dtypes: int64(4), object(3)\n",
      "memory usage: 5.6+ KB\n"
     ]
    }
   ],
   "source": [
    "df_service.info()"
   ]
  },
  {
   "cell_type": "markdown",
   "metadata": {},
   "source": [
    " ## Calcular los indicadores clave de desempeño (KPIs)\n",
    "Calcular los KPIs principales:\n",
    "\n",
    "- Tiempo de resolución promedio.\n",
    "- Satisfacción del cliente promedio.\n",
    "- Número promedio de interacciones.\n",
    "- Porcentaje de quejas resueltas."
   ]
  },
  {
   "cell_type": "code",
   "execution_count": 125,
   "metadata": {},
   "outputs": [
    {
     "name": "stdout",
     "output_type": "stream",
     "text": [
      "Tiempo de resolución promedio: 32.04 horas\n",
      "Satisfacción del cliente promedio: 2.91 en una escala de 1 a 5\n",
      "Número Promedio de Interacciones: 4.66\n",
      "Porcentaje de Quejas Resueltas: 53.0 %\n"
     ]
    }
   ],
   "source": [
    "# Calcular KPIs\n",
    "\n",
    "avg_resolution_time = df_service[\"ResolutionTime\"].mean()\n",
    "avg_customer_satisfaction = df_service[\"CustomerSatisfaction\"].mean()\n",
    "avg_number_of_interactions = df_service[\"NumberOfInteractions\"].mean()\n",
    "resolution_rate = (df_service[\"Resolved\"] == \"Yes\").mean() * 100\n",
    "\n",
    "\n",
    "print(f\"Tiempo de resolución promedio: {avg_resolution_time:.2f} horas\")\n",
    "print(f\"Satisfacción del cliente promedio: {avg_customer_satisfaction:.2f} en una escala de 1 a 5\")\n",
    "print(\"Número Promedio de Interacciones:\", avg_number_of_interactions)\n",
    "print(\"Porcentaje de Quejas Resueltas:\", resolution_rate,\"%\")"
   ]
  },
  {
   "cell_type": "markdown",
   "metadata": {},
   "source": [
    "\n",
    "## Identificar patrones y correlaciones en los datos."
   ]
  },
  {
   "cell_type": "code",
   "execution_count": 126,
   "metadata": {},
   "outputs": [
    {
     "data": {
      "image/png": "[encoded data removed]",
      "text/plain": [
       "<Figure size 640x480 with 2 Axes>"
      ]
     },
     "metadata": {},
     "output_type": "display_data"
    }
   ],
   "source": [
    "# Seleccionar solo las columnas numericas\n",
    "df_service_numerical = df_service.select_dtypes(include=['number'])\n",
    "\n",
    "# Calcular la correlación de los datos \n",
    "correlation_matrix = df_service_numerical.corr()\n",
    "sns.heatmap(correlation_matrix, annot=True, cmap=\"coolwarm\")\n",
    "plt.title(\"Matriz de Correlación\")\n",
    "plt.show()"
   ]
  },
  {
   "cell_type": "markdown",
   "metadata": {},
   "source": [
    "#### las correlaciones entre estas variables son bastante débiles. \n",
    "\n",
    "La correlación negativa entre el tiempo de resolución y la satisfacción del cliente, aunque baja, sugiere que es beneficioso para la satisfacción del cliente mantener los tiempos de resolución lo más cortos posible"
   ]
  },
  {
   "cell_type": "markdown",
   "metadata": {},
   "source": [
    "## Análisis de causa raíz"
   ]
  },
  {
   "cell_type": "code",
   "execution_count": 127,
   "metadata": {},
   "outputs": [
    {
     "data": {
      "image/png": "[encoded data removed]",
      "text/plain": [
       "<Figure size 640x480 with 1 Axes>"
      ]
     },
     "metadata": {},
     "output_type": "display_data"
    }
   ],
   "source": [
    "# Evaluar cómo la satisfacción del cliente está influenciada por el tiempo de resolución y el número de interacciones\n",
    "sns.scatterplot(data=df_service, x=\"ResolutionTime\", y=\"CustomerSatisfaction\", hue=\"Resolved\")\n",
    "plt.title(\"Satisfacción del Cliente vs. Tiempo de Resolución\")\n",
    "plt.show()"
   ]
  },
  {
   "cell_type": "markdown",
   "metadata": {},
   "source": [
    "El gráfico anterior de dispersión muestra la relación entre la satisfacción del cliente (CustomerSatisfaction) y el tiempo de resolución (ResolutionTime) de sus quejas, diferenciando si las quejas fueron resueltas (Resolved: Yes) o no (Resolved: No).\n",
    "\n",
    "- Tiempo de Resolución:\n",
    "   * No parece haber una tendencia clara entre el tiempo de resolución y la satisfacción del cliente. Los puntos están bastante dispersos a lo largo del eje de tiempo de resolución.\n",
    "\n",
    "Resolver las quejas es crucial para la satisfacción del cliente, pero también es importante cómo se resuelven las quejas y otros factores que pueden influir en la percepción del cliente."
   ]
  },
  {
   "cell_type": "code",
   "execution_count": 128,
   "metadata": {},
   "outputs": [
    {
     "data": {
      "image/png": "[encoded data removed]",
      "text/plain": [
       "<Figure size 640x480 with 1 Axes>"
      ]
     },
     "metadata": {},
     "output_type": "display_data"
    }
   ],
   "source": [
    "sns.scatterplot(data=df_service, x=\"NumberOfInteractions\", y=\"CustomerSatisfaction\", hue=\"Resolved\")\n",
    "plt.title(\"Satisfacción del Cliente vs. Número de Interacciones\")\n",
    "plt.show()\n"
   ]
  },
  {
   "cell_type": "code",
   "execution_count": 129,
   "metadata": {},
   "outputs": [
    {
     "data": {
      "image/png": "[encoded data removed]",
      "text/plain": [
       "<Figure size 640x480 with 1 Axes>"
      ]
     },
     "metadata": {},
     "output_type": "display_data"
    }
   ],
   "source": [
    "# Evaluar el impacto de los diferentes tipos de quejas\n",
    "sns.boxplot(data=df_service, x=\"ComplaintType\", y=\"CustomerSatisfaction\")\n",
    "plt.title(\"Satisfacción del Cliente por Tipo de Queja\")\n",
    "plt.show()"
   ]
  },
  {
   "cell_type": "markdown",
   "metadata": {},
   "source": [
    "## Identifica las principales causas de insatisfacción del cliente."
   ]
  },
  {
   "cell_type": "code",
   "execution_count": 130,
   "metadata": {},
   "outputs": [
    {
     "name": "stdout",
     "output_type": "stream",
     "text": [
      "Distribución por tipo de queja entre clientes insatisfechos:\n",
      "ComplaintType\n",
      "Service    21\n",
      "Product    18\n",
      "Other       4\n",
      "Name: count, dtype: int64\n",
      "Tiempo de resolución promedio entre clientes insatisfechos: 33.58 horas\n",
      "Número promedio de interacciones entre clientes insatisfechos: 4.49\n"
     ]
    },
    {
     "data": {
      "text/plain": [
       "Resolved\n",
       "Yes    22\n",
       "No     21\n",
       "Name: count, dtype: int64"
      ]
     },
     "execution_count": 130,
     "metadata": {},
     "output_type": "execute_result"
    }
   ],
   "source": [
    "insatisfied_customers = df_service[df_service[\"CustomerSatisfaction\"] <= 2]\n",
    "complaint_type_counts = insatisfied_customers[\"ComplaintType\"].value_counts()\n",
    "resolution_time_insatisfaction = insatisfied_customers[\"ResolutionTime\"].mean()\n",
    "interaction_counts_insatisfaction = insatisfied_customers[\"NumberOfInteractions\"].mean()\n",
    "\n",
    "print(\"Distribución por tipo de queja entre clientes insatisfechos:\")\n",
    "print(complaint_type_counts)\n",
    "\n",
    "print(f\"Tiempo de resolución promedio entre clientes insatisfechos: {resolution_time_insatisfaction:.2f} horas\")\n",
    "print(f\"Número promedio de interacciones entre clientes insatisfechos: {interaction_counts_insatisfaction:.2f}\")\n",
    "\n",
    "\n",
    "# Análisis de la resolución de quejas\n",
    "resolucion_insatisfaccion = insatisfied_customers[\"Resolved\"].value_counts()\n",
    "\n",
    "resolucion_insatisfaccion\n"
   ]
  },
  {
   "attachments": {
    "image.png": {
     "image/png": "[encoded data removed]"
    }
   },
   "cell_type": "markdown",
   "metadata": {},
   "source": [
    "![image.png](attachment:image.png)"
   ]
  },
  {
   "cell_type": "markdown",
   "metadata": {},
   "source": [
    "## Identifica las principales causas de insatisfacción del cliente."
   ]
  },
  {
   "cell_type": "markdown",
   "metadata": {},
   "source": [
    "\n",
    "- Una de las principales causas de insatisfacción del cliente es la demora en el tiempo de resolución. Se encontró que el tiempo de resolución aceptable (SCAT) es de 27 minutos, mientras que el grupo de clientes insatisfechos (DSAT) presenta un tiempo promedio de resolución de 34 minutos.\n",
    "\n",
    "- Se obtiene mayor retroalimentación con respecto al servicio al cliente prestado por el grupo de agentes. Se encontró que, del 46% de los casos correspondientes a CSAT, no se les proporcionó una resolución. Esto indica que el agente pudo prestar un servicio óptimo y de calidad. Por el contrario, con los clientes insatisfechos (DSAT), el 46% de los casos resueltos recibieron una resolución a su caso, pero quedaron insatisfechos por el servicio o producto prestado por el agente.\n"
   ]
  },
  {
   "cell_type": "markdown",
   "metadata": {},
   "source": [
    "## Proponer tres acciones específicas para mejorar el tiempo de resolución de las solicitudes de los clientes"
   ]
  },
  {
   "cell_type": "markdown",
   "metadata": {},
   "source": [
    "- Análisis de Desempeño en Tiempo Real: Utilizar herramientas de análisis en tiempo real para monitorear el desempeño de los agentes, identificando áreas donde pueden mejorar en términos de velocidad y calidad de resolución.\n",
    "\n",
    "- Sesiones de Retroalimentación y Coaching: Organizar sesiones regulares de retroalimentación y coaching para agentes, enfocándose en estrategias para mejorar la velocidad y eficiencia en la resolución de casos.\n",
    "\n",
    "- Programas de Reconocimiento e Incentivos: Implementar programas de reconocimiento e incentivos que recompensen a los agentes por resolver casos rápidamente y mantener altos niveles de satisfacción del cliente, motivándolos a mantener un rendimiento óptimo.\n"
   ]
  },
  {
   "cell_type": "markdown",
   "metadata": {},
   "source": [
    "## Medir el impacto de estas acciones en los KPIs"
   ]
  },
  {
   "cell_type": "markdown",
   "metadata": {},
   "source": [
    "1.\tComparación de Períodos Temporales: Evaluar KPIs antes y después de implementar las acciones, utilizando análisis estadísticos para determinar diferencias significativas.\n",
    "\n",
    "2.\tAnálisis de Cohortes: Crear grupos de control y prueba entre agentes para comparar desempeño y medir el impacto en los KPIs.\n",
    "\n",
    "3.\tRecolección de Datos y Feedback Continuo: Implementar encuestas continuas para clientes y agentes, analizando tanto datos cuantitativos como cualitativos.\n",
    "\n",
    "4.\tUso de Herramientas Analíticas: Emplear herramientas avanzadas para monitorear cambios en tiempo real y generar informes periódicos sobre el impacto en los KPIs.\n",
    "Estos enfoques permiten una evaluación efectiva y ajustes tácticos para mejorar continuamente los resultados.\n"
   ]
  }
 ],
 "metadata": {
  "kernelspec": {
   "display_name": "Python 3",
   "language": "python",
   "name": "python3"
  },
  "language_info": {
   "codemirror_mode": {
    "name": "ipython",
    "version": 3
   },
   "file_extension": ".py",
   "mimetype": "text/x-python",
   "name": "python",
   "nbconvert_exporter": "python",
   "pygments_lexer": "ipython3",
   "version": "3.12.3"
  }
 },
 "nbformat": 4,
 "nbformat_minor": 2
}
